{
 "cells": [
  {
   "cell_type": "raw",
   "metadata": {},
   "source": [
    "- Lists can be written as a list of comma-separated values between square brackets.\n",
    "\n",
    "- Items in a list need not be of the same type"
   ]
  },
  {
   "cell_type": "code",
   "execution_count": 1,
   "metadata": {
    "ExecuteTime": {
     "end_time": "2018-11-08T17:43:26.781574Z",
     "start_time": "2018-11-08T17:43:26.775588Z"
    }
   },
   "outputs": [],
   "source": [
    "# Create list\n",
    "list1 = ['math', 'stats', 1902, 301]\n",
    "list2 = [10, 20, 30, 40, 50, 60, 70]"
   ]
  },
  {
   "cell_type": "code",
   "execution_count": 3,
   "metadata": {
    "ExecuteTime": {
     "end_time": "2018-11-08T17:44:59.627287Z",
     "start_time": "2018-11-08T17:44:59.624296Z"
    }
   },
   "outputs": [
    {
     "name": "stdout",
     "output_type": "stream",
     "text": [
      "list1[0] ->  math\n",
      "list2[1:5] -> [20, 30, 40, 50]\n"
     ]
    }
   ],
   "source": [
    "# Slicing to access values in list\n",
    "print(\"list1[0] -> \", list1[0])\n",
    "print(\"list2[1:5] ->\", list2[1:5])"
   ]
  },
  {
   "cell_type": "code",
   "execution_count": 4,
   "metadata": {
    "ExecuteTime": {
     "end_time": "2018-11-08T17:46:54.657644Z",
     "start_time": "2018-11-08T17:46:54.653690Z"
    }
   },
   "outputs": [
    {
     "name": "stdout",
     "output_type": "stream",
     "text": [
      "Value @index 3 ->  301\n",
      "New value @index 3 - >  555\n"
     ]
    }
   ],
   "source": [
    "# Updating \n",
    "print(\"Value @index 3 -> \", list1[3])\n",
    "list1[3] = 555\n",
    "print(\"New value @index 3 - > \", list1[3])"
   ]
  },
  {
   "cell_type": "code",
   "execution_count": 5,
   "metadata": {
    "ExecuteTime": {
     "end_time": "2018-11-08T17:47:52.735333Z",
     "start_time": "2018-11-08T17:47:52.732341Z"
    }
   },
   "outputs": [
    {
     "name": "stdout",
     "output_type": "stream",
     "text": [
      "[10, 20, 30, 40, 50, 60]\n"
     ]
    }
   ],
   "source": [
    "# Delete List Items\n",
    "del list2[6]\n",
    "print(list2)"
   ]
  },
  {
   "cell_type": "code",
   "execution_count": null,
   "metadata": {},
   "outputs": [],
   "source": []
  }
 ],
 "metadata": {
  "kernelspec": {
   "display_name": "Python 3",
   "language": "python",
   "name": "python3"
  },
  "language_info": {
   "codemirror_mode": {
    "name": "ipython",
    "version": 3
   },
   "file_extension": ".py",
   "mimetype": "text/x-python",
   "name": "python",
   "nbconvert_exporter": "python",
   "pygments_lexer": "ipython3",
   "version": "3.6.5"
  }
 },
 "nbformat": 4,
 "nbformat_minor": 2
}
